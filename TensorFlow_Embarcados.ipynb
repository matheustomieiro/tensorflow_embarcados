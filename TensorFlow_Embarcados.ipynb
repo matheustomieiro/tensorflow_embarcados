{
  "nbformat": 4,
  "nbformat_minor": 0,
  "metadata": {
    "colab": {
      "name": "TensorFlow_Embarcados.ipynb",
      "provenance": [],
      "authorship_tag": "ABX9TyMew0nQhgf06lzlOKkIp7Rp",
      "include_colab_link": true
    },
    "kernelspec": {
      "name": "python3",
      "display_name": "Python 3"
    }
  },
  "cells": [
    {
      "cell_type": "markdown",
      "metadata": {
        "id": "view-in-github",
        "colab_type": "text"
      },
      "source": [
        "<a href=\"https://colab.research.google.com/github/matheustomieiro/tensorflow_embarcados/blob/main/TensorFlow_Embarcados.ipynb\" target=\"_parent\"><img src=\"https://colab.research.google.com/assets/colab-badge.svg\" alt=\"Open In Colab\"/></a>"
      ]
    }
  ]
}